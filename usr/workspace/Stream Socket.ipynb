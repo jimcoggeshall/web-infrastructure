{
 "cells": [
  {
   "cell_type": "code",
   "execution_count": 1,
   "metadata": {},
   "outputs": [],
   "source": [
    "import nest_asyncio\n",
    "import asyncio\n",
    "import concurrent.futures\n",
    "\n",
    "import socket\n",
    "import json\n",
    "from json import JSONDecodeError\n",
    "import datetime\n",
    "\n",
    "import tempfile\n",
    "import shutil\n",
    "\n",
    "import IPython.display\n",
    "\n",
    "import pyspark\n",
    "from pyspark import SparkContext\n",
    "from pyspark.streaming import StreamingContext\n",
    "from pyspark.sql import Row, SparkSession\n",
    "from pyspark.sql.types import *\n",
    "import pyspark.sql.functions as func\n",
    "\n",
    "nest_asyncio.apply()\n",
    "\n",
    "def stream_packets(_parse):\n",
    "    with socket.socket(socket.AF_INET, socket.SOCK_DGRAM) as s:\n",
    "        s.bind((\"0.0.0.0\", 22055))\n",
    "        while True:\n",
    "            p, _ = s.recvfrom(65536)\n",
    "            parsed = \"\"\n",
    "            while parsed == \"\":\n",
    "                try:\n",
    "                    parsed = _parse(p)\n",
    "                except JSONDecodeError:\n",
    "                    parsed = \"\"\n",
    "                    pn, _ = s.recvfrom(65536)\n",
    "                    p += pn\n",
    "            yield parsed\n",
    "\n",
    "def parse_message(x):\n",
    "    s = x.decode(\"utf-8\").rstrip()\n",
    "    return [json.loads(m) for m in s.split(\"\\n\")]\n",
    "\n",
    "def record_packets(data_dir):\n",
    "    streamer = iter(stream_packets(parse_message))\n",
    "    while True:\n",
    "        start = datetime.datetime.now()\n",
    "        now = str(int(start.timestamp()))\n",
    "        with tempfile.NamedTemporaryFile(dir=\"/tmp\", delete=False, mode=\"w\") as f:\n",
    "            fname = f.name\n",
    "            i = 0\n",
    "            while i < 10 and (datetime.datetime.now() - start).total_seconds() < 5:\n",
    "                p = next(streamer)\n",
    "                for m in p:\n",
    "                    f.write(json.dumps(m) + \"\\n\")\n",
    "        shutil.move(fname, data_dir + \"/\" + now + \".jsonl\")\n",
    "\n",
    "spark = SparkSession.builder\\\n",
    "    .appName(\"Read Socket\")\\\n",
    "    .master(\"local\")\\\n",
    "    .enableHiveSupport()\\\n",
    "    .getOrCreate()\n",
    "\n",
    "sc = spark.sparkContext\n",
    "ssc = StreamingContext(sc, 1)"
   ]
  },
  {
   "cell_type": "code",
   "execution_count": 2,
   "metadata": {},
   "outputs": [],
   "source": [
    "class DnsRecordOperator:\n",
    "    \n",
    "    def __getstate__(self):\n",
    "        self._ncalled[\"__getstate__\"] += 1\n",
    "        state = self.__dict__.copy()\n",
    "        state[\"_hostnames_updated_str\"] = state[\"_hostnames_updated\"].isoformat()\n",
    "        del state[\"_hostnames_updated\"]\n",
    "        return state\n",
    "    \n",
    "    def __setstate__(self, state):\n",
    "        state[\"_hostnames_updated\"] = datetime.datetime.fromisoformat(\n",
    "            state[\"_hostnames_updated_str\"]\n",
    "        )\n",
    "        del state[\"_hostnames_updated_str\"]\n",
    "        self.__dict__.update(state)\n",
    "        self._ncalled[\"__setstate__\"] += 1\n",
    "        return\n",
    "\n",
    "    def __init__(self, display_handle):\n",
    "        self._ncalled = {\n",
    "            \"__getstate__\": 0,\n",
    "            \"__setstate__\": 0,\n",
    "            \"_update_hostnames\": 0,\n",
    "            \"_extract_host\": 0,\n",
    "            \"_addr_to_hostname\": 0,\n",
    "            \"open\": 0,\n",
    "            \"process\": 0,\n",
    "            \"close\": 0\n",
    "        }        \n",
    "        self._display_handle = display_handle\n",
    "        self._update_hostnames()\n",
    "    \n",
    "    def _extract_host(self, line):\n",
    "        self._ncalled[\"_extract_host\"] += 1\n",
    "        sline = line.rstrip().split(\"\\t\")\n",
    "        return (sline[0], sline[-1])\n",
    "\n",
    "    def _update_hostnames(self):\n",
    "        self._ncalled[\"_update_hostnames\"] += 1\n",
    "        with open(\"/etc/lx2-hosts\", \"r\") as f:\n",
    "            self._hostnames = dict(self._extract_host(line) for line in f)\n",
    "        self._hostnames_updated = datetime.datetime.now()\n",
    "\n",
    "    def _addr_to_hostname(self, addr):\n",
    "        self._ncalled[\"_addr_to_hostname\"] += 1\n",
    "        if (datetime.datetime.now() - self._hostnames_updated).total_seconds() > 300:\n",
    "            self._update_hostnames()\n",
    "        return self._hostnames.get(addr, addr)\n",
    "\n",
    "    def open(self, partition_id, epoch_id):\n",
    "        self._ncalled[\"open\"] += 1\n",
    "        return True\n",
    "\n",
    "    def process(self, row):\n",
    "        self._ncalled[\"process\"] += 1\n",
    "        record = row.asDict(True)\n",
    "        dst_addr = record[\"layers\"][\"ip\"][\"ip_ip_dst\"]\n",
    "        dst_hostname = self._addr_to_hostname(dest_addr)\n",
    "        qry_name = record[\"layers\"][\"dns\"][\"text_dns_qry_name\"]\n",
    "        out = \"\\t\".join([dst_hostname, qry_name])\n",
    "        self._display_handle.update(out)\n",
    "        return out\n",
    "\n",
    "    def close(self, error):\n",
    "        self._ncalled[\"close\"] += 1\n",
    "        return True"
   ]
  },
  {
   "cell_type": "code",
   "execution_count": 3,
   "metadata": {},
   "outputs": [
    {
     "data": {},
     "metadata": {},
     "output_type": "display_data"
    }
   ],
   "source": [
    "with tempfile.TemporaryDirectory() as tempdir:\n",
    "\n",
    "    packets = spark.readStream\\\n",
    "        .option(\"cleanSource\", \"delete\")\\\n",
    "        .json(tempdir + \"/*.jsonl\", schema=schema)\\\n",
    "        .withColumn(\"time\", func.to_timestamp(\"timestamp\"))\n",
    "\n",
    "    record_loop = asyncio.new_event_loop()\n",
    "    record_handle = record_loop.run_in_executor(\n",
    "        concurrent.futures.ThreadPoolExecutor(max_workers=1),\n",
    "        record_packets, \n",
    "        tempdir\n",
    "    )\n",
    "\n",
    "    display_handle = IPython.display.display(display_id=True)\n",
    "    dns_operator = DnsRecordOperator(display_handle)\n",
    "\n",
    "    def stream_results(df, epoch_id):\n",
    "        def parse_row(row):\n",
    "            record = row.asDict(True)\n",
    "            dst_addr = record[\"layers\"][\"ip\"][\"ip_ip_dst\"]\n",
    "            dst_hostname = dns_operator._addr_to_hostname(dest_addr)\n",
    "            qry_name = record[\"layers\"][\"dns\"][\"text_dns_qry_name\"]\n",
    "            return {\n",
    "                \"dst_hostname\": dst_hostname,\n",
    "                \"qry_name\": qry_name\n",
    "            }\n",
    "\n",
    "        out = pd.DataFrame(\n",
    "            df.rdd.map(parse_row).collect()\n",
    "        )\n",
    "        display_handle.update(out)\n",
    "        pass\n",
    "\n",
    "    dns = packets.filter(func.col(\"layers.dns.text_dns_qry_name\").isNotNull())\n",
    "\n",
    "    stream_query = dns.withWatermark(\"time\", \"2 minutes\")\\\n",
    "        .writeStream\\\n",
    "        .outputMode(\"append\")\\\n",
    "        .foreachBatch(stream_results)\\\n",
    "        .start()"
   ]
  },
  {
   "cell_type": "code",
   "execution_count": 8,
   "metadata": {},
   "outputs": [
    {
     "data": {
      "text/plain": [
       "'/tmp/tmpw5rgm4vs'"
      ]
     },
     "execution_count": 8,
     "metadata": {},
     "output_type": "execute_result"
    }
   ],
   "source": [
    "tempdir"
   ]
  },
  {
   "cell_type": "code",
   "execution_count": 7,
   "metadata": {},
   "outputs": [
    {
     "ename": "TypeError",
     "evalue": "Object of type DnsRecordOperator is not JSON serializable",
     "output_type": "error",
     "traceback": [
      "\u001b[0;31m---------------------------------------------------------------------------\u001b[0m",
      "\u001b[0;31mTypeError\u001b[0m                                 Traceback (most recent call last)",
      "\u001b[0;32m<ipython-input-7-17a4651d5251>\u001b[0m in \u001b[0;36m<module>\u001b[0;34m\u001b[0m\n\u001b[0;32m----> 1\u001b[0;31m \u001b[0mjson\u001b[0m\u001b[0;34m.\u001b[0m\u001b[0mdumps\u001b[0m\u001b[0;34m(\u001b[0m\u001b[0mdns_operator\u001b[0m\u001b[0;34m)\u001b[0m\u001b[0;34m\u001b[0m\u001b[0;34m\u001b[0m\u001b[0m\n\u001b[0m",
      "\u001b[0;32m/opt/conda/lib/python3.8/json/__init__.py\u001b[0m in \u001b[0;36mdumps\u001b[0;34m(obj, skipkeys, ensure_ascii, check_circular, allow_nan, cls, indent, separators, default, sort_keys, **kw)\u001b[0m\n\u001b[1;32m    229\u001b[0m         \u001b[0mcls\u001b[0m \u001b[0;32mis\u001b[0m \u001b[0;32mNone\u001b[0m \u001b[0;32mand\u001b[0m \u001b[0mindent\u001b[0m \u001b[0;32mis\u001b[0m \u001b[0;32mNone\u001b[0m \u001b[0;32mand\u001b[0m \u001b[0mseparators\u001b[0m \u001b[0;32mis\u001b[0m \u001b[0;32mNone\u001b[0m \u001b[0;32mand\u001b[0m\u001b[0;34m\u001b[0m\u001b[0;34m\u001b[0m\u001b[0m\n\u001b[1;32m    230\u001b[0m         default is None and not sort_keys and not kw):\n\u001b[0;32m--> 231\u001b[0;31m         \u001b[0;32mreturn\u001b[0m \u001b[0m_default_encoder\u001b[0m\u001b[0;34m.\u001b[0m\u001b[0mencode\u001b[0m\u001b[0;34m(\u001b[0m\u001b[0mobj\u001b[0m\u001b[0;34m)\u001b[0m\u001b[0;34m\u001b[0m\u001b[0;34m\u001b[0m\u001b[0m\n\u001b[0m\u001b[1;32m    232\u001b[0m     \u001b[0;32mif\u001b[0m \u001b[0mcls\u001b[0m \u001b[0;32mis\u001b[0m \u001b[0;32mNone\u001b[0m\u001b[0;34m:\u001b[0m\u001b[0;34m\u001b[0m\u001b[0;34m\u001b[0m\u001b[0m\n\u001b[1;32m    233\u001b[0m         \u001b[0mcls\u001b[0m \u001b[0;34m=\u001b[0m \u001b[0mJSONEncoder\u001b[0m\u001b[0;34m\u001b[0m\u001b[0;34m\u001b[0m\u001b[0m\n",
      "\u001b[0;32m/opt/conda/lib/python3.8/json/encoder.py\u001b[0m in \u001b[0;36mencode\u001b[0;34m(self, o)\u001b[0m\n\u001b[1;32m    197\u001b[0m         \u001b[0;31m# exceptions aren't as detailed.  The list call should be roughly\u001b[0m\u001b[0;34m\u001b[0m\u001b[0;34m\u001b[0m\u001b[0;34m\u001b[0m\u001b[0m\n\u001b[1;32m    198\u001b[0m         \u001b[0;31m# equivalent to the PySequence_Fast that ''.join() would do.\u001b[0m\u001b[0;34m\u001b[0m\u001b[0;34m\u001b[0m\u001b[0;34m\u001b[0m\u001b[0m\n\u001b[0;32m--> 199\u001b[0;31m         \u001b[0mchunks\u001b[0m \u001b[0;34m=\u001b[0m \u001b[0mself\u001b[0m\u001b[0;34m.\u001b[0m\u001b[0miterencode\u001b[0m\u001b[0;34m(\u001b[0m\u001b[0mo\u001b[0m\u001b[0;34m,\u001b[0m \u001b[0m_one_shot\u001b[0m\u001b[0;34m=\u001b[0m\u001b[0;32mTrue\u001b[0m\u001b[0;34m)\u001b[0m\u001b[0;34m\u001b[0m\u001b[0;34m\u001b[0m\u001b[0m\n\u001b[0m\u001b[1;32m    200\u001b[0m         \u001b[0;32mif\u001b[0m \u001b[0;32mnot\u001b[0m \u001b[0misinstance\u001b[0m\u001b[0;34m(\u001b[0m\u001b[0mchunks\u001b[0m\u001b[0;34m,\u001b[0m \u001b[0;34m(\u001b[0m\u001b[0mlist\u001b[0m\u001b[0;34m,\u001b[0m \u001b[0mtuple\u001b[0m\u001b[0;34m)\u001b[0m\u001b[0;34m)\u001b[0m\u001b[0;34m:\u001b[0m\u001b[0;34m\u001b[0m\u001b[0;34m\u001b[0m\u001b[0m\n\u001b[1;32m    201\u001b[0m             \u001b[0mchunks\u001b[0m \u001b[0;34m=\u001b[0m \u001b[0mlist\u001b[0m\u001b[0;34m(\u001b[0m\u001b[0mchunks\u001b[0m\u001b[0;34m)\u001b[0m\u001b[0;34m\u001b[0m\u001b[0;34m\u001b[0m\u001b[0m\n",
      "\u001b[0;32m/opt/conda/lib/python3.8/json/encoder.py\u001b[0m in \u001b[0;36miterencode\u001b[0;34m(self, o, _one_shot)\u001b[0m\n\u001b[1;32m    255\u001b[0m                 \u001b[0mself\u001b[0m\u001b[0;34m.\u001b[0m\u001b[0mkey_separator\u001b[0m\u001b[0;34m,\u001b[0m \u001b[0mself\u001b[0m\u001b[0;34m.\u001b[0m\u001b[0mitem_separator\u001b[0m\u001b[0;34m,\u001b[0m \u001b[0mself\u001b[0m\u001b[0;34m.\u001b[0m\u001b[0msort_keys\u001b[0m\u001b[0;34m,\u001b[0m\u001b[0;34m\u001b[0m\u001b[0;34m\u001b[0m\u001b[0m\n\u001b[1;32m    256\u001b[0m                 self.skipkeys, _one_shot)\n\u001b[0;32m--> 257\u001b[0;31m         \u001b[0;32mreturn\u001b[0m \u001b[0m_iterencode\u001b[0m\u001b[0;34m(\u001b[0m\u001b[0mo\u001b[0m\u001b[0;34m,\u001b[0m \u001b[0;36m0\u001b[0m\u001b[0;34m)\u001b[0m\u001b[0;34m\u001b[0m\u001b[0;34m\u001b[0m\u001b[0m\n\u001b[0m\u001b[1;32m    258\u001b[0m \u001b[0;34m\u001b[0m\u001b[0m\n\u001b[1;32m    259\u001b[0m def _make_iterencode(markers, _default, _encoder, _indent, _floatstr,\n",
      "\u001b[0;32m/opt/conda/lib/python3.8/json/encoder.py\u001b[0m in \u001b[0;36mdefault\u001b[0;34m(self, o)\u001b[0m\n\u001b[1;32m    177\u001b[0m \u001b[0;34m\u001b[0m\u001b[0m\n\u001b[1;32m    178\u001b[0m         \"\"\"\n\u001b[0;32m--> 179\u001b[0;31m         raise TypeError(f'Object of type {o.__class__.__name__} '\n\u001b[0m\u001b[1;32m    180\u001b[0m                         f'is not JSON serializable')\n\u001b[1;32m    181\u001b[0m \u001b[0;34m\u001b[0m\u001b[0m\n",
      "\u001b[0;31mTypeError\u001b[0m: Object of type DnsRecordOperator is not JSON serializable"
     ]
    }
   ],
   "source": [
    "json.dumps(dns_operator)"
   ]
  },
  {
   "cell_type": "code",
   "execution_count": null,
   "metadata": {},
   "outputs": [],
   "source": []
  }
 ],
 "metadata": {
  "hide_input": false,
  "kernelspec": {
   "display_name": "Python 3",
   "language": "python",
   "name": "python3"
  },
  "language_info": {
   "codemirror_mode": {
    "name": "ipython",
    "version": 3
   },
   "file_extension": ".py",
   "mimetype": "text/x-python",
   "name": "python",
   "nbconvert_exporter": "python",
   "pygments_lexer": "ipython3",
   "version": "3.8.4"
  },
  "latex_envs": {
   "LaTeX_envs_menu_present": true,
   "autoclose": false,
   "autocomplete": true,
   "bibliofile": "biblio.bib",
   "cite_by": "apalike",
   "current_citInitial": 1,
   "eqLabelWithNumbers": true,
   "eqNumInitial": 1,
   "hotkeys": {
    "equation": "Ctrl-E",
    "itemize": "Ctrl-I"
   },
   "labels_anchors": false,
   "latex_user_defs": false,
   "report_style_numbering": false,
   "user_envs_cfg": false
  },
  "toc": {
   "base_numbering": 1,
   "nav_menu": {},
   "number_sections": false,
   "sideBar": true,
   "skip_h1_title": false,
   "title_cell": "Table of Contents",
   "title_sidebar": "Contents",
   "toc_cell": false,
   "toc_position": {},
   "toc_section_display": true,
   "toc_window_display": false
  },
  "varInspector": {
   "cols": {
    "lenName": 16,
    "lenType": 16,
    "lenVar": 40
   },
   "kernels_config": {
    "python": {
     "delete_cmd_postfix": "",
     "delete_cmd_prefix": "del ",
     "library": "var_list.py",
     "varRefreshCmd": "print(var_dic_list())"
    },
    "r": {
     "delete_cmd_postfix": ") ",
     "delete_cmd_prefix": "rm(",
     "library": "var_list.r",
     "varRefreshCmd": "cat(var_dic_list()) "
    }
   },
   "types_to_exclude": [
    "module",
    "function",
    "builtin_function_or_method",
    "instance",
    "_Feature"
   ],
   "window_display": false
  }
 },
 "nbformat": 4,
 "nbformat_minor": 4
}
