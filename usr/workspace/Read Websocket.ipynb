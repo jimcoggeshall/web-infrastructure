{
 "cells": [
  {
   "cell_type": "code",
   "execution_count": 7,
   "metadata": {
    "ExecuteTime": {
     "end_time": "2020-07-10T06:31:13.269883Z",
     "start_time": "2020-07-10T06:31:07.775063Z"
    },
    "init_cell": true,
    "scrolled": false,
    "slideshow": {
     "slide_type": "-"
    }
   },
   "outputs": [],
   "source": [
    "%%capture\n",
    "%pip install nest_asyncio"
   ]
  },
  {
   "cell_type": "code",
   "execution_count": 8,
   "metadata": {
    "ExecuteTime": {
     "end_time": "2020-07-10T06:31:13.275648Z",
     "start_time": "2020-07-10T06:31:13.272783Z"
    },
    "init_cell": true,
    "scrolled": false
   },
   "outputs": [],
   "source": [
    "import nest_asyncio\n",
    "nest_asyncio.apply()"
   ]
  },
  {
   "cell_type": "code",
   "execution_count": null,
   "metadata": {
    "ExecuteTime": {
     "start_time": "2020-07-10T06:31:17.711Z"
    },
    "hide_input": false,
    "scrolled": true,
    "slideshow": {
     "slide_type": "-"
    }
   },
   "outputs": [
    {
     "name": "stdout",
     "output_type": "stream",
     "text": [
      "Connecting...connected.\n",
      "2020-07-09T23:31:28  KidsBedroomAppleTV     e673.dsce9.akamaiedge.net                                   \n",
      "2020-07-09T23:31:31  KidsBedroomAppleTV     e673.dsce9.akamaiedge.net                                   \n",
      "2020-07-09T23:31:35  JimsiPhone             gateway.fe.apple-dns.net                                    \n",
      "2020-07-09T23:31:46  KidsBedroomSmallDispl  www.google.com                                              \n",
      "2020-07-09T23:31:48  MichaelsPC             rs3clients.timeusage.family.microsoft.com                   \n",
      "2020-07-09T23:32:01  FamilyDesktopPC        www.talosintelligence.com                                   \n",
      "2020-07-09T23:32:04  KidsBedroomSmallDispl  connectivitycheck.gstatic.com                               \n",
      "2020-07-09T23:32:19  FamilyDesktopPC        dns.msftncsi.com                                            \n",
      "2020-07-09T23:32:33  MichaelsPC             aka.ms                                                      \n",
      "2020-07-09T23:32:34  JimsiPad               www.coursera.org                                            \n",
      "2020-07-09T23:32:34  JimsiPad               outlook.office365.com                                       \n",
      "2020-07-09T23:32:38  JimsiPad               admin.jimcoggeshall.com                                     \n",
      "2020-07-09T23:32:45  KidsBedroomAppleTV     push.apple.com                                              \n",
      "2020-07-09T23:32:58  JimsiPad               init.ess.apple.com                                          \n",
      "2020-07-09T23:33:04  KidsBedroomSmallDispl  www.google.com                                              \n",
      "2020-07-09T23:33:04  KidsBedroomSmallDispl  clients3.google.com                                         \n",
      "2020-07-09T23:33:08  KidsBedroomAppleTV     init.push.apple.com                                         \n",
      "2020-07-09T23:33:11  MichaelsPC             datarouter.ol.epicgames.com                                 \n"
     ]
    }
   ],
   "source": [
    "import asyncio\n",
    "import websockets\n",
    "import json\n",
    "import time\n",
    "\n",
    "\n",
    "def handle(message):\n",
    "    if message == \"keepalive\":\n",
    "        print(message)\n",
    "        return\n",
    "    parsed = json.loads(message.split(\"\\n\")[1].rstrip())\n",
    "    print(\n",
    "        parsed.get(\"timestamp_iso\")[0:20].ljust(20),\n",
    "        parsed.get(\"layers\").get(\"hostname_dst\").ljust(21)[0:21].ljust(22),\n",
    "        parsed.get(\"layers\").get(\"dns_resp_name\")[0].ljust(60)[0:60],\n",
    "    )\n",
    "\n",
    "\n",
    "async def hello(uri):\n",
    "    while True:\n",
    "        try:\n",
    "            print(\"Connecting...\", end=\"\")\n",
    "            async with websockets.connect(uri) as websocket:\n",
    "                print(\"connected.\")\n",
    "                while True:\n",
    "                    m = await websocket.recv()\n",
    "                    handle(m);\n",
    "        except:\n",
    "            print(\"Disconnected. Reconnecting in 5s...\")\n",
    "            time.sleep(5)\n",
    "        \n",
    "\n",
    "asyncio.get_event_loop().run_until_complete(\n",
    "    hello(\"ws://172.29.5.1/display/firehose/ws\")\n",
    ")"
   ]
  },
  {
   "cell_type": "code",
   "execution_count": null,
   "metadata": {},
   "outputs": [],
   "source": []
  }
 ],
 "metadata": {
  "celltoolbar": "Initialization Cell",
  "hide_input": false,
  "kernelspec": {
   "display_name": "Python 3",
   "language": "python",
   "name": "python3"
  },
  "language_info": {
   "codemirror_mode": {
    "name": "ipython",
    "version": 3
   },
   "file_extension": ".py",
   "mimetype": "text/x-python",
   "name": "python",
   "nbconvert_exporter": "python",
   "pygments_lexer": "ipython3",
   "version": "3.7.6"
  },
  "toc": {
   "base_numbering": 1,
   "nav_menu": {},
   "number_sections": false,
   "sideBar": true,
   "skip_h1_title": false,
   "title_cell": "Table of Contents",
   "title_sidebar": "Contents",
   "toc_cell": false,
   "toc_position": {},
   "toc_section_display": true,
   "toc_window_display": false
  }
 },
 "nbformat": 4,
 "nbformat_minor": 4
}
